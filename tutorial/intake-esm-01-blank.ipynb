{
 "cells": [
  {
   "cell_type": "markdown",
   "id": "ef8421bc-f312-4847-a771-c02ac7293359",
   "metadata": {
    "tags": []
   },
   "source": [
    "# Introduction to Intake-ESM\n",
    "\n",
    "**Max Grover**\n",
    "\n",
    "**08 December 2021**\n",
    "\n",
    "---\n",
    "\n",
    "# Overview\n",
    "\n",
    "1. What is Intake-ESM?\n",
    "2. How can we use it to read in data?\n",
    "3. How do we work with dictionaries of datasets?\n",
    "4. How do I write my analysis to work with Intake-ESM?\n",
    "\n",
    "# Prerequisites\n",
    "\n",
    "|Concepts | Importance | Notes |\n",
    "| --- | --- | --- |\n",
    "| [Introduction to Xarray](https://foundations.projectpythia.org/core/xarray/xarray.html) | Necessary | - |\n",
    "| [Introduction to Matplotlib](https://foundations.projectpythia.org/core/matplotlib/matplotlib.html) | Helpful | - |\n",
    "\n",
    "- Time to learn: 50 minutes.\n",
    "\n",
    "---\n",
    "\n",
    "# Setup\n",
    "\n",
    "## Imports"
   ]
  },
  {
   "cell_type": "code",
   "execution_count": null,
   "id": "428f80cb-e0ce-4c86-9df0-41d1319edbee",
   "metadata": {},
   "outputs": [],
   "source": [
    "import intake\n",
    "from distributed import Client, LocalCluster\n",
    "import xarray as xr\n",
    "import matplotlib.pyplot as plt\n",
    "import fsspec"
   ]
  },
  {
   "cell_type": "markdown",
   "id": "b945ac59-2f1a-4453-9de9-bcfb5b646f82",
   "metadata": {},
   "source": [
    "## Spin up a Dask Cluster"
   ]
  },
  {
   "cell_type": "code",
   "execution_count": null,
   "id": "b5e0babd-cdac-49c3-bc3e-82454878f1a2",
   "metadata": {},
   "outputs": [],
   "source": [
    "cluster = LocalCluster()\n",
    "client = Client(cluster)\n",
    "client"
   ]
  },
  {
   "cell_type": "markdown",
   "id": "a0ada76e-01d3-4d73-907e-0780d55b3c8d",
   "metadata": {},
   "source": [
    "### Investigate the files on AWS from the CESM-LENS Dataset"
   ]
  },
  {
   "cell_type": "code",
   "execution_count": null,
   "id": "a1aec340-e309-44fd-a963-94033b19860a",
   "metadata": {},
   "outputs": [],
   "source": [
    "fs = fsspec.filesystem('s3', anon=True)\n",
    "bucket = 'ncar-cesm-lens'\n",
    "fs.ls(bucket)"
   ]
  },
  {
   "cell_type": "markdown",
   "id": "eb63fac4-24e5-4846-b527-49c8469d7bf0",
   "metadata": {},
   "source": [
    "### Loading in Data Using Xarray"
   ]
  },
  {
   "cell_type": "code",
   "execution_count": null,
   "id": "de85361c-8452-4485-b600-9b041fe38fa2",
   "metadata": {},
   "outputs": [],
   "source": [
    "var = 'T'\n",
    "atmosphere_ds = xr.open_zarr(f's3://ncar-cesm-lens/atm/monthly/cesmLE-RCP85-{var}.zarr', storage_options={'anon':True})\n",
    "atmosphere_ds"
   ]
  },
  {
   "cell_type": "code",
   "execution_count": null,
   "id": "c73f838d-607c-43d3-9df5-7a9b96770ba9",
   "metadata": {},
   "outputs": [],
   "source": [
    "variables = ['T', 'Q']\n",
    "ds_list = []\n",
    "\n",
    "# Loop through the different files and add them to the list of datasets\n",
    "for var in variables:\n",
    "    ds_list.append(xr.open_zarr(f's3://ncar-cesm-lens/atm/monthly/cesmLE-RCP85-{var}.zarr', storage_options={'anon':True}))\n",
    "    \n",
    "atmosphere_merged = xr.merge(ds_list)\n",
    "atmosphere_merged"
   ]
  },
  {
   "cell_type": "markdown",
   "id": "57842215-ae8a-4f24-87a5-1f9afdc81a86",
   "metadata": {},
   "source": [
    "## Using Intake-ESM\n",
    "We can use the Intake-ESM catalog from the CESM-LENS dataset (`https://raw.githubusercontent.com/NCAR/cesm-lens-aws/master/intake-catalogs/aws-cesm1-le.json`) to work with these data!"
   ]
  },
  {
   "cell_type": "code",
   "execution_count": null,
   "id": "264cd491-e403-41d1-8341-c032e6f830bd",
   "metadata": {},
   "outputs": [],
   "source": [
    "data_catalog = intake.open_esm_datastore('https://raw.githubusercontent.com/NCAR/cesm-lens-aws/master/intake-catalogs/aws-cesm1-le.json')\n",
    "data_catalog"
   ]
  },
  {
   "cell_type": "code",
   "execution_count": null,
   "id": "0587ec3c-afc4-41c2-a9ca-074bc39aa807",
   "metadata": {},
   "outputs": [],
   "source": []
  }
 ],
 "metadata": {
  "kernelspec": {
   "display_name": "Python 3 (ipykernel)",
   "language": "python",
   "name": "python3"
  },
  "language_info": {
   "codemirror_mode": {
    "name": "ipython",
    "version": 3
   },
   "file_extension": ".py",
   "mimetype": "text/x-python",
   "name": "python",
   "nbconvert_exporter": "python",
   "pygments_lexer": "ipython3",
   "version": "3.10.0"
  }
 },
 "nbformat": 4,
 "nbformat_minor": 5
}
